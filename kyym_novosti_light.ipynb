{
 "cells": [
  {
   "cell_type": "code",
   "execution_count": null,
   "id": "optional-writer",
   "metadata": {},
   "outputs": [],
   "source": [
    "import requests\n",
    "import pandas as pd\n",
    "from bs4 import BeautifulSoup as bs\n",
    "import re"
   ]
  },
  {
   "cell_type": "code",
   "execution_count": null,
   "id": "advanced-anthropology",
   "metadata": {},
   "outputs": [],
   "source": [
    "%%time\n",
    "# 5944 (от 0 до 5943)\n",
    "# 284 страницы, в каждой по 21 новости\n",
    "\n",
    "rec = []\n",
    "for i in range(1200, 1400, 21):\n",
    "    page = requests.get('http://kyym.ru/sonunnar?start='+ str(i), headers = {'User-Agent': 'Mozilla/5.0 (Macintosh; Intel Mac OS X 10_13_6) AppleWebKit/537.36 (KHTML, like Gecko) Chrome/70.0.3538.77 Safari/537.36'})\n",
    "    soup = bs(page.text, 'html.parser')\n",
    "    links = soup.find_all('h2')\n",
    "    for link in links:\n",
    "        address = 'http://kyym.ru'+link.find('a')['href']\n",
    "        rec.append(address)"
   ]
  },
  {
   "cell_type": "code",
   "execution_count": null,
   "id": "valuable-atlantic",
   "metadata": {
    "scrolled": true
   },
   "outputs": [],
   "source": [
    "%%time\n",
    "dataframe = []\n",
    "for http in rec:\n",
    "    page = requests.get(http, headers = {'User-Agent': 'Mozilla/5.0 (Macintosh; Intel Mac OS X 10_13_6) AppleWebKit/537.36 (KHTML, like Gecko) Chrome/70.0.3538.77 Safari/537.36'})\n",
    "    soup = bs(page.text, 'html.parser')\n",
    "    if soup is not None:\n",
    "        title = soup.find('title').text\n",
    "        date = soup.find('time').text.split(' ')[4]\n",
    "        if soup.find('section', class_='article-content clearfix') is not None:\n",
    "            all_text = soup.find('section', class_='article-content clearfix').text\n",
    "            all_text = re.sub(r\"\\s{2,}\", \"\", all_text).replace('\\n', '')\n",
    "            dataframe.append((date, title, http, all_text))"
   ]
  }
 ],
 "metadata": {
  "kernelspec": {
   "display_name": "Python 3",
   "language": "python",
   "name": "python3"
  },
  "language_info": {
   "codemirror_mode": {
    "name": "ipython",
    "version": 3
   },
   "file_extension": ".py",
   "mimetype": "text/x-python",
   "name": "python",
   "nbconvert_exporter": "python",
   "pygments_lexer": "ipython3",
   "version": "3.8.6"
  }
 },
 "nbformat": 4,
 "nbformat_minor": 5
}
